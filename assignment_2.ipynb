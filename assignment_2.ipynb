{
 "cells": [
  {
   "cell_type": "raw",
   "id": "a70f16c5-01c9-476a-a6cc-50575ee0181d",
   "metadata": {},
   "source": [
    "Q1. How do you comment code in Python? What are the different types of comments?\n",
    "Ans : To comment the code in python, we use '#' symboll in start of any line or code that we want to comment. \n",
    "    There are 3 types of comment in python:\n",
    "    1) Single line comment : we start commenting any code by inserting '#' in the starting of a line.\n",
    "    Ex : # print(\"Hello World!\")\n",
    "    \n",
    "    2) Double line comment : If we want to comment 2 or more line in same time then we have to use ''' at start of code and also ''' at last. \n",
    "    There is another method that we have to select all texts that we want to make as a comment and then apply \"control + /\".\n",
    "    Ex : ***This is my\n",
    "        multilined comment***\n",
    "        \n",
    "    3) python docstring : It is a builtin feature in python."
   ]
  },
  {
   "cell_type": "raw",
   "id": "1db6a1a0-51c4-4052-8a7c-714b5e637c7b",
   "metadata": {},
   "source": [
    "Q2. What are variables in Python? How do you declare and assign values to variables?\n",
    "Ans : variables are nothing but a string of character in which we assign a value in it.\n",
    "    To declare variable, simply type any string Ex. abc, xyz\n",
    "    To assign values to variable, we should follow next step:\n",
    "    abc = \"Tanmay\"\n",
    "    "
   ]
  },
  {
   "cell_type": "raw",
   "id": "ea480f71-652b-4c85-b053-81e4731f3922",
   "metadata": {},
   "source": [
    "Q3. How do you convert one data type to another in Python?\n",
    "Ans : There are several in built functions \n",
    "    i) To convert float to integer : int(10.216) = 10\n",
    "    ii) To convert integer to float : int(10) = 10.0"
   ]
  },
  {
   "cell_type": "raw",
   "id": "f35c432e-4291-47d1-8611-f53dfa27e720",
   "metadata": {},
   "source": [
    "Q4. How do you write and execute a Python script from the command line?\n",
    "Ans : To write and execute a python script, first open command line and type \"python\". If you have installed python already the you should not get any     error. Then you can write any code and execute.\n",
    "    Ex: print (\"Hello World!\") \n",
    "    Output : Hello World!"
   ]
  },
  {
   "cell_type": "raw",
   "id": "a0e07a22-ae6f-4eb4-bb01-0d683159f393",
   "metadata": {},
   "source": [
    "Q5. Given a list my_list = [1, 2, 3, 4, 5], write the code to slice the list and obtain the sub-list [2, 3]."
   ]
  },
  {
   "cell_type": "code",
   "execution_count": 12,
   "id": "8d7c6762-c65e-4adc-a4ad-b52c6009e8a2",
   "metadata": {},
   "outputs": [
    {
     "data": {
      "text/plain": [
       "[2, 3]"
      ]
     },
     "execution_count": 12,
     "metadata": {},
     "output_type": "execute_result"
    }
   ],
   "source": [
    "my_list = [1, 2, 3, 4, 5]\n",
    "my_list[1:3]"
   ]
  },
  {
   "cell_type": "raw",
   "id": "665cfd6a-8ac2-43e8-a0a9-6fa814fe6074",
   "metadata": {},
   "source": [
    "Q6. What is a complex number in mathematics, and how is it represented in Python?\n",
    "Ans : Complex number is imaginary number which is represented as \"a±ib\" where a,b are real numbers and i is cube root of unity\n",
    "    Complex Number in Python is represented as \"a±bj\" where a,b are real numbers.\n",
    "    Ex: 5+13j, -3.5-54j"
   ]
  },
  {
   "cell_type": "raw",
   "id": "e8fa05f7-bd40-4ac8-b0a9-ae6c1988e28b",
   "metadata": {},
   "source": [
    "Q7. What is the correct way to declare a variable named age and assign the value 25 to it?\n",
    "Ans : first create a string named \"age\". Then put '=' infront of it and type \"25\".\n",
    "    Ex: age = 25"
   ]
  },
  {
   "cell_type": "raw",
   "id": "c1a04782-060b-4232-92a1-d53c995fc00c",
   "metadata": {},
   "source": [
    "Q8. Declare a variable named price and assign the value 9.99 to it. What data type does this variable \n",
    "belong to?"
   ]
  },
  {
   "cell_type": "code",
   "execution_count": 16,
   "id": "bdc91767-0b76-4416-aed7-d19f1bfcab23",
   "metadata": {},
   "outputs": [],
   "source": [
    "price = 9.99\n",
    "# this belongs to float data type."
   ]
  },
  {
   "cell_type": "raw",
   "id": "af9ea636-5ee0-4143-b469-f979ac6d9277",
   "metadata": {},
   "source": [
    "Q9. Create a variable named name and assign your full name to it as a string. How would you print the \n",
    "value of this variable?"
   ]
  },
  {
   "cell_type": "code",
   "execution_count": 18,
   "id": "09291fc3-d302-45a4-90be-e3f39353d52b",
   "metadata": {},
   "outputs": [
    {
     "name": "stdout",
     "output_type": "stream",
     "text": [
      "Tanmay Ganeshrao Bankar\n"
     ]
    }
   ],
   "source": [
    "name = \"Tanmay Ganeshrao Bankar\"\n",
    "print(name)"
   ]
  },
  {
   "cell_type": "raw",
   "id": "d821ed61-cec3-4cdf-a7ba-ea9da43aaa84",
   "metadata": {},
   "source": [
    "Q10. Given the string \"Hello, World!\", extract the substring \"World\"."
   ]
  },
  {
   "cell_type": "code",
   "execution_count": 21,
   "id": "fa9f18a0-70ae-47af-a7e1-2a1a1ab53654",
   "metadata": {},
   "outputs": [
    {
     "name": "stdout",
     "output_type": "stream",
     "text": [
      "World\n"
     ]
    }
   ],
   "source": [
    "a = \"Hello, World!\"\n",
    "print(a[7:12])"
   ]
  },
  {
   "cell_type": "raw",
   "id": "bdcfd602-532f-499b-9f82-137a92dd796f",
   "metadata": {},
   "source": [
    "Q11. Create a variable named \"is_student\" and assign it a boolean value indicating whether you are \n",
    "currently a student or not."
   ]
  },
  {
   "cell_type": "code",
   "execution_count": 24,
   "id": "74a70377-bb18-41da-9764-dceec4d32f4a",
   "metadata": {},
   "outputs": [
    {
     "name": "stdout",
     "output_type": "stream",
     "text": [
      "True\n",
      "True\n",
      "True\n",
      "True\n",
      "True\n",
      "True\n",
      "True\n",
      "True\n",
      "True\n",
      "True\n",
      "True\n",
      "True\n",
      "True\n"
     ]
    }
   ],
   "source": [
    "info = \"I'm a student\"\n",
    "for is_student in info:\n",
    "    if info == \"I'm a student\":\n",
    "        print(bool(is_student))\n",
    "    else:\n",
    "        print(\"None\")"
   ]
  },
  {
   "cell_type": "code",
   "execution_count": null,
   "id": "775ac261-707a-4bce-8996-056ea27da8c0",
   "metadata": {},
   "outputs": [],
   "source": []
  }
 ],
 "metadata": {
  "kernelspec": {
   "display_name": "Python 3 (ipykernel)",
   "language": "python",
   "name": "python3"
  },
  "language_info": {
   "codemirror_mode": {
    "name": "ipython",
    "version": 3
   },
   "file_extension": ".py",
   "mimetype": "text/x-python",
   "name": "python",
   "nbconvert_exporter": "python",
   "pygments_lexer": "ipython3",
   "version": "3.10.8"
  }
 },
 "nbformat": 4,
 "nbformat_minor": 5
}
